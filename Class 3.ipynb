{
 "cells": [
  {
   "cell_type": "code",
   "execution_count": 5,
   "id": "462dcb12",
   "metadata": {},
   "outputs": [],
   "source": [
    "class Node:\n",
    "    def __init__(self, data):\n",
    "        self.data = data\n",
    "        self.above = None\n",
    "class Stack:\n",
    "    def __init__(self):\n",
    "        self.base = None\n",
    "        \n",
    "    def push(self, item):\n",
    "        new_node = Node(item)\n",
    "        if not self.base: #same as saying if self.base == None\n",
    "            self.base = new_node\n",
    "        else:\n",
    "            current = self.base\n",
    "            while current.above:           # while current.above != None (!= means not equal)\n",
    "                current = current.above\n",
    "            current.above = new_node\n",
    "            \n",
    "\n",
    "        # Our pop operation must, at a minimum, do two things:\n",
    "        # Remove an element from our collection (our stack)\n",
    "        # Return the value that element (or node) is holding.\n",
    "    \n",
    "    def pop(self):\n",
    "        current = self.base\n",
    "        if not current:\n",
    "            return current\n",
    "        prev = None\n",
    "        while current.above:\n",
    "            prev = current\n",
    "            current = current.above\n",
    "        target_data = current.data\n",
    "        if prev:\n",
    "            prev.above = None\n",
    "        else:\n",
    "            self.base = None\n",
    "        return target_data\n",
    "    \n",
    "    \n",
    "    def peek(self):\n",
    "        if not self.base:\n",
    "            return None\n",
    "        current = self.base\n",
    "        while current.above:\n",
    "            current = current.above\n",
    "        return current.data\n",
    "\n",
    "    def is_empty(self):\n",
    "        return not self.base\n",
    "\n",
    "    def size(self):\n",
    "        count = 0\n",
    "        current = self.base\n",
    "        while current:\n",
    "            count += 1\n",
    "            current = current.above\n",
    "        return count\n",
    "    \n",
    "        \n",
    "    # return None if the stack is empty\n",
    "    #  If there is self.base, then check self.above attribute.\n",
    "    # If no self.above, return data.\n",
    "    # If yes, move to next node.\n",
    "    # Move through nodes until self.above = None, return data and set previous node above attribute to none.\n",
    "    \n",
    "    "
   ]
  },
  {
   "cell_type": "code",
   "execution_count": 7,
   "id": "70131561",
   "metadata": {},
   "outputs": [
    {
     "data": {
      "text/plain": [
       "'somisoZ'"
      ]
     },
     "execution_count": 7,
     "metadata": {},
     "output_type": "execute_result"
    }
   ],
   "source": [
    "def invert_str(mystring):\n",
    "    stack = Stack()\n",
    "    for letter in mystring:\n",
    "        stack.push(letter)\n",
    "    out = \"\"\n",
    "    is_empty = False\n",
    "    while not is_empty:\n",
    "        letter = stack.pop()\n",
    "        if not letter:\n",
    "            is_empty = True\n",
    "        else:\n",
    "            out += letter\n",
    "    return out\n",
    "invert_str(\"Zosimos\")\n"
   ]
  },
  {
   "cell_type": "code",
   "execution_count": null,
   "id": "4abb9dbf",
   "metadata": {},
   "outputs": [],
   "source": [
    "# Simplified implementation of queue using python list\n",
    "class Queue:\n",
    "    def __init__(self):\n",
    "        self.items = []\n",
    "        \n",
    "    def enqueue(self, item):\n",
    "        self.items.insert(0, item)\n",
    "        \n",
    "    def dequeue(self):\n",
    "        return self.items.pop()\n",
    "    \n",
    "    #helper methods:\n",
    "    def peek(self):\n",
    "        return self.items[len(self.items)-1]\n",
    "    \n",
    "    def size(self):\n",
    "        return len(self.items)\n",
    "    \n",
    "    def is_empty(self):\n",
    "        return self.items == []"
   ]
  }
 ],
 "metadata": {
  "kernelspec": {
   "display_name": "Python 3 (ipykernel)",
   "language": "python",
   "name": "python3"
  },
  "language_info": {
   "codemirror_mode": {
    "name": "ipython",
    "version": 3
   },
   "file_extension": ".py",
   "mimetype": "text/x-python",
   "name": "python",
   "nbconvert_exporter": "python",
   "pygments_lexer": "ipython3",
   "version": "3.10.6"
  }
 },
 "nbformat": 4,
 "nbformat_minor": 5
}
