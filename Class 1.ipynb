{
 "cells": [
  {
   "cell_type": "code",
   "execution_count": 1,
   "id": "5156c15d",
   "metadata": {},
   "outputs": [
    {
     "name": "stdout",
     "output_type": "stream",
     "text": [
      "H\n",
      "e\n",
      "l\n",
      "l\n",
      "o\n",
      " \n",
      "w\n",
      "o\n",
      "r\n",
      "l\n",
      "d\n"
     ]
    }
   ],
   "source": [
    "for letter in \"Hello world\":\n",
    "    print(letter)"
   ]
  },
  {
   "cell_type": "markdown",
   "id": "37895a26",
   "metadata": {},
   "source": [
    "# Problem 1\n",
    "\n",
    "### Given two strings (string_a and string_b) determine if these are anagrams of each other.\n",
    "Your function, \"are_anagrams\" must receive two strings and return True if these are anagrams of each other, False otherwise.\n",
    "\n",
    "_Criteria_:\n",
    "Two strings are anagrams of each other if and only if:\n",
    "1. They are exactly the same length.\n",
    "2. They use the exact same characters the same amount of times.\n",
    "\n",
    "Examples:\n",
    "```\n",
    "cars and scar\n",
    "heart and earth\n",
    "etc\n",
    "```"
   ]
  },
  {
   "cell_type": "code",
   "execution_count": null,
   "id": "484d3eee",
   "metadata": {},
   "outputs": [],
   "source": [
    "Remove spaces from A and B.\n",
    "Compare length of A and B, if unequal = False\n",
    "Lowercase A and B.\n",
    "Set numerical representation of characters in A and B.\n",
    "Compare numbers in A with numbers in B.\n",
    "When characters match, edit list A and B to remove that character.\n",
    "Rerun comparison with updated lists.\n",
    "If all characters match, then Anagram is = True.\n",
    "\n"
   ]
  },
  {
   "attachments": {},
   "cell_type": "markdown",
   "id": "0c23fdc8",
   "metadata": {},
   "source": []
  }
 ],
 "metadata": {
  "kernelspec": {
   "display_name": "Python 3 (ipykernel)",
   "language": "python",
   "name": "python3"
  },
  "language_info": {
   "codemirror_mode": {
    "name": "ipython",
    "version": 3
   },
   "file_extension": ".py",
   "mimetype": "text/x-python",
   "name": "python",
   "nbconvert_exporter": "python",
   "pygments_lexer": "ipython3",
   "version": "3.10.6"
  }
 },
 "nbformat": 4,
 "nbformat_minor": 5
}
