{
 "cells": [
  {
   "cell_type": "code",
   "execution_count": 1,
   "id": "71898c02",
   "metadata": {},
   "outputs": [
    {
     "name": "stdout",
     "output_type": "stream",
     "text": [
      "5\n",
      "139723544215952\n",
      "139723544215920\n"
     ]
    }
   ],
   "source": [
    "#Important point:\n",
    "#Pass by reference changes the original value\n",
    "#Pass by value creates a copy of the original and modifies that value\n",
    "\n",
    "#Pass by value:\n",
    "#Int, float, bool, imaginarynumbers\n",
    "\n",
    "x = 5\n",
    "y = x\n",
    "x = x + 1\n",
    "\n",
    "print(y)\n",
    "print (id(x))\n",
    "print (id(y))"
   ]
  },
  {
   "cell_type": "code",
   "execution_count": 3,
   "id": "86a30481",
   "metadata": {},
   "outputs": [
    {
     "name": "stdout",
     "output_type": "stream",
     "text": [
      "[1, 2, 3, 4, 5, 6, 7]\n",
      "139723478269184\n",
      "139723478269184\n"
     ]
    }
   ],
   "source": [
    "#Pass by reference:\n",
    "x = [1, 2, 3, 4, 5]\n",
    "y = x\n",
    "x.append (6)\n",
    "y.append (7)\n",
    "print (y)\n",
    "print (id(x))\n",
    "print (id(y))"
   ]
  },
  {
   "cell_type": "code",
   "execution_count": 11,
   "id": "9c939fc7",
   "metadata": {},
   "outputs": [],
   "source": [
    "class SinglyLinkedList:\n",
    "    class __Node:\n",
    "        def __init__(self, data):\n",
    "            self.data = data\n",
    "            self.next = None\n",
    "        \n",
    "    def __init__(self):\n",
    "        self.head = None\n",
    "        \n",
    "    def append(self, value):\n",
    "        new_node = self.__Node(value)\n",
    "        if not self.head:\n",
    "            self.head = new_node\n",
    "        else:\n",
    "            current = self.head\n",
    "            while current.next:\n",
    "                current = current.next\n",
    "            current.next = new_node\n",
    "            \n",
    "    def __str__(self):\n",
    "        out = \"[\"\n",
    "        if self.head:\n",
    "            out += \"%s\" % self.head.data\n",
    "        current = self.head\n",
    "        while current:\n",
    "            current = current.next\n",
    "            if current:\n",
    "                out += \", %s\" % current.data\n",
    "        out += \"]\"\n",
    "        return out\n",
    "    \n",
    "    def insert(self, index, value):\n",
    "        new_node = self.__Node(value)\n",
    "        if index == 0:\n",
    "            new_node.next = self.head\n",
    "            self.head = new_node\n",
    "        else:\n",
    "            current = self.head\n",
    "            for i in range(index-1):\n",
    "                if current.next:\n",
    "                    current = current.next\n",
    "                else:\n",
    "                    raise IndexError(\"Index out of range\")\n",
    "            new_node.next = current.next\n",
    "            current.next = new_node\n",
    "    \n",
    "    def remove(self, value):\n",
    "        current = self.head\n",
    "        previous = None\n",
    "        while current:\n",
    "            if current.data == value:\n",
    "                if previous:\n",
    "                    previous.next = current.next\n",
    "                else:\n",
    "                    self.head = current.next\n",
    "                return\n",
    "            else:\n",
    "                previous = current\n",
    "                current = current.next\n",
    "        raise ValueError(\"Value not found in list\")\n",
    "    \n",
    "    #needed: iterate through list, capture the list, and return the list in proper format. Remove trailing comma by checking for current.next attribute and if no, then do not add trailing comma"
   ]
  },
  {
   "cell_type": "code",
   "execution_count": 13,
   "id": "e8cffbb4",
   "metadata": {},
   "outputs": [
    {
     "name": "stdout",
     "output_type": "stream",
     "text": [
      "Empty list:\n",
      "[]\n",
      "One element:\n",
      "[0]\n",
      "More than one element:\n",
      "[0, 1, 2, 3, 4]\n"
     ]
    }
   ],
   "source": [
    "sll = SinglyLinkedList()\n",
    "\n",
    "print(\"Empty list:\")\n",
    "print(sll)\n",
    "\n",
    "sll.append(0)\n",
    "print(\"One element:\")\n",
    "print(sll)\n",
    "\n",
    "print (\"More than one element:\")\n",
    "for number in range(1, 5):\n",
    "    sll.append(number)\n",
    "print (sll)"
   ]
  },
  {
   "cell_type": "code",
   "execution_count": null,
   "id": "1796ffb1",
   "metadata": {},
   "outputs": [],
   "source": []
  }
 ],
 "metadata": {
  "kernelspec": {
   "display_name": "Python 3 (ipykernel)",
   "language": "python",
   "name": "python3"
  },
  "language_info": {
   "codemirror_mode": {
    "name": "ipython",
    "version": 3
   },
   "file_extension": ".py",
   "mimetype": "text/x-python",
   "name": "python",
   "nbconvert_exporter": "python",
   "pygments_lexer": "ipython3",
   "version": "3.10.6"
  }
 },
 "nbformat": 4,
 "nbformat_minor": 5
}
